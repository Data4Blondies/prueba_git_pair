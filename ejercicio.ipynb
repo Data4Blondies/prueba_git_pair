{
 "cells": [
  {
   "cell_type": "markdown",
   "metadata": {},
   "source": [
    "#Vamos a crear conflictos en un huerto 🐷👩🏼‍🌾🧺"
   ]
  },
  {
   "cell_type": "code",
   "execution_count": 4,
   "metadata": {},
   "outputs": [
    {
     "name": "stdout",
     "output_type": "stream",
     "text": [
      "¡Listo! Se han plantado: 🥔🥔🥔\n"
     ]
    }
   ],
   "source": [
    "patatas = \"🥔🥔🥔\"\n",
    "print(f\"¡Listo! Se han plantado: {patatas}\")"
   ]
  },
  {
   "cell_type": "code",
   "execution_count": 2,
   "metadata": {},
   "outputs": [
    {
     "name": "stdout",
     "output_type": "stream",
     "text": [
      "¡Listo! Se han plantado: 🍅🍅🍅\n"
     ]
    }
   ],
   "source": [
    "tomates = \"🍅🍅🍅\"\n",
    "print(f\"¡Listo! Se han plantado: {tomates}\")"
   ]
  },
  {
   "cell_type": "code",
   "execution_count": 5,
   "metadata": {},
   "outputs": [
    {
     "name": "stdout",
     "output_type": "stream",
     "text": [
      "¡Listo! Se han plantado: 🥕🥕🥕\n"
     ]
    }
   ],
   "source": [
    "zanahorias = \"🥕🥕🥕\"\n",
    "print(f\"¡Listo! Se han plantado: {zanahorias}\")"
   ]
  },
  {
   "cell_type": "code",
   "execution_count": 1,
   "metadata": {},
   "outputs": [
    {
     "name": "stdout",
     "output_type": "stream",
     "text": [
      "¡Listo! Se han plantado: 🫑🫑🫑\n"
     ]
    }
   ],
   "source": [
    "pimientos = \"🫑🫑🫑\"\n",
    "print(f\"¡Listo! Se han plantado: {pimientos}\")"
   ]
  },
  {
   "cell_type": "code",
   "execution_count": 2,
   "metadata": {},
   "outputs": [
    {
     "name": "stdout",
     "output_type": "stream",
     "text": [
      "¡Listo! Se han plantado: 🍓🍓🍓\n"
     ]
    }
   ],
   "source": [
    "fresas = \"🍓🍓🍓\"\n",
    "print(f\"¡Listo! Se han plantado: {fresas}\")"
   ]
  }
 ],
 "metadata": {
  "kernelspec": {
   "display_name": "base",
   "language": "python",
   "name": "python3"
  },
  "language_info": {
   "codemirror_mode": {
    "name": "ipython",
    "version": 3
   },
   "file_extension": ".py",
   "mimetype": "text/x-python",
   "name": "python",
   "nbconvert_exporter": "python",
   "pygments_lexer": "ipython3",
   "version": "3.9.12"
  }
 },
 "nbformat": 4,
 "nbformat_minor": 2
}
